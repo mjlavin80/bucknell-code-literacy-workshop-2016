{
 "cells": [
  {
   "cell_type": "code",
   "execution_count": 1,
   "metadata": {
    "collapsed": false
   },
   "outputs": [
    {
     "data": {
      "text/plain": [
       "13"
      ]
     },
     "execution_count": 1,
     "metadata": {},
     "output_type": "execute_result"
    }
   ],
   "source": [
    "a=5\n",
    "a+8"
   ]
  },
  {
   "cell_type": "markdown",
   "metadata": {},
   "source": [
    "%% html\n"
   ]
  },
  {
   "cell_type": "code",
   "execution_count": 10,
   "metadata": {
    "collapsed": false,
    "scrolled": true
   },
   "outputs": [
    {
     "data": {
      "text/html": [
       "<h2 style= 'color:red'>Hello</h2>"
      ],
      "text/plain": [
       "<IPython.core.display.HTML object>"
      ]
     },
     "metadata": {},
     "output_type": "display_data"
    }
   ],
   "source": [
    "%%html\n",
    "<h2 style= 'color:red'>Hello</h2>"
   ]
  },
  {
   "cell_type": "code",
   "execution_count": 5,
   "metadata": {
    "collapsed": false
   },
   "outputs": [
    {
     "name": "stderr",
     "output_type": "stream",
     "text": [
      "ERROR: Cell magic `%%` not found.\n"
     ]
    }
   ],
   "source": []
  },
  {
   "cell_type": "code",
   "execution_count": null,
   "metadata": {
    "collapsed": true
   },
   "outputs": [],
   "source": [
    "api_key= \"Your API key here\""
   ]
  },
  {
   "cell_type": "code",
   "execution_count": null,
   "metadata": {
    "collapsed": true
   },
   "outputs": [],
   "source": []
  },
  {
   "cell_type": "code",
   "execution_count": null,
   "metadata": {
    "collapsed": true
   },
   "outputs": [],
   "source": []
  },
  {
   "cell_type": "code",
   "execution_count": null,
   "metadata": {
    "collapsed": true
   },
   "outputs": [],
   "source": [
    "#these are the libraries we are importing\n",
    "%matplotlib inline\n",
    "import matplotlib.pyplot as plt\n",
    "from pyzotero import zotero\n",
    "from collections import Counter\n",
    "\n",
    "#so maybe here we are identifying a particular library of a particular group and my own api\n",
    "library_id = \"655084\"\n",
    "library_type = \"group\"\n",
    "api_key= \"kw9zO3U6S2hKLQcUgvlovmYG\"\n",
    "\n",
    "#we are creating a zotero object and calling it zot then we're comparing it to everything from a collection between two dates in the same collection\n",
    "zot = zotero.Zotero(library_id, library_type, api_key)\n",
    "hybrid_blended = zot.everything(zot.collection_items(\"95HW46ZG\"))\n",
    "dates = [int(i[\"data\"][\"date\"]) for i in hybrid_blended]\n",
    "\n",
    "years = [d for d in set(dates)]\n",
    "years.sort()\n",
    "counts = Counter([u for u in dates])\n",
    "articles = [counts[y] for y in years]\n",
    "\n",
    "plt.figure(figsize=(20,10))\n",
    "plt.plot(years[4:], articles[4:])\n",
    "plt.show()\n"
   ]
  },
  {
   "cell_type": "code",
   "execution_count": null,
   "metadata": {
    "collapsed": true
   },
   "outputs": [],
   "source": []
  }
 ],
 "metadata": {
  "kernelspec": {
   "display_name": "Python 3",
   "language": "python",
   "name": "python3"
  },
  "language_info": {
   "codemirror_mode": {
    "name": "ipython",
    "version": 3
   },
   "file_extension": ".py",
   "mimetype": "text/x-python",
   "name": "python",
   "nbconvert_exporter": "python",
   "pygments_lexer": "ipython3",
   "version": "3.4.3"
  }
 },
 "nbformat": 4,
 "nbformat_minor": 0
}
