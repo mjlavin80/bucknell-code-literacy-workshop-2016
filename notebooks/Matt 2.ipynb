{
 "cells": [
  {
   "cell_type": "markdown",
   "metadata": {},
   "source": [
    "# Zotero"
   ]
  },
  {
   "cell_type": "code",
   "execution_count": 13,
   "metadata": {
    "collapsed": false
   },
   "outputs": [],
   "source": [
    "%matplotlib inline"
   ]
  },
  {
   "cell_type": "code",
   "execution_count": null,
   "metadata": {
    "collapsed": true
   },
   "outputs": [],
   "source": []
  },
  {
   "cell_type": "code",
   "execution_count": null,
   "metadata": {
    "collapsed": true
   },
   "outputs": [],
   "source": []
  },
  {
   "cell_type": "code",
   "execution_count": 6,
   "metadata": {
    "collapsed": false
   },
   "outputs": [
    {
     "data": {
      "text/html": [
       "<h2 style='color:red'>Hello</h2>"
      ],
      "text/plain": [
       "<IPython.core.display.HTML object>"
      ]
     },
     "metadata": {},
     "output_type": "display_data"
    }
   ],
   "source": [
    "%matplotlib inline\n",
    "import matplotlib.pyplot as plt\n",
    "from pyzotero import zotero\n",
    "from collections import Counter\n",
    "\n",
    "library_id = \"655084\"\n",
    "library_type = \"group\"\n",
    "api_key= \"ajdUMPwUpwULGD2cwdXaOASG\"\n",
    "\n",
    "zot = zotero.Zotero(library_id, library_type, api_key)\n",
    "hybrid_blended = zot.everything(zot.collection_items(\"95HW46ZG\"))\n",
    "dates = [int(i[\"data\"][\"date\"]) for i in hybrid_blended]\n",
    "\n",
    "years = [d for d in set(dates)]\n",
    "years.sort()\n",
    "counts = Counter([u for u in dates])\n",
    "articles = [counts[y] for y in years]\n",
    "\n",
    "plt.figure(figsize=(20,10))\n",
    "plt.plot(years[4:], articles[4:])\n",
    "plt.show()\n"
   ]
  },
  {
   "cell_type": "code",
   "execution_count": 12,
   "metadata": {
    "collapsed": false
   },
   "outputs": [
    {
     "name": "stdout",
     "output_type": "stream",
     "text": [
      "Collecting icalendar\n",
      "  Downloading icalendar-3.10.tar.gz (67kB)\n",
      "Requirement already satisfied (use --upgrade to upgrade): python-dateutil in /home/lavin/venv/lib/python3.4/site-packages (from icalendar)\n",
      "Requirement already satisfied (use --upgrade to upgrade): pytz in /home/lavin/venv/lib/python3.4/site-packages (from icalendar)\n",
      "Requirement already satisfied (use --upgrade to upgrade): setuptools in /home/lavin/venv/lib/python3.4/site-packages (from icalendar)\n",
      "Requirement already satisfied (use --upgrade to upgrade): six>=1.5 in /home/lavin/venv/lib/python3.4/site-packages (from python-dateutil->icalendar)\n",
      "Building wheels for collected packages: icalendar\n",
      "  Running setup.py bdist_wheel for icalendar: started\n",
      "  Running setup.py bdist_wheel for icalendar: finished with status 'done'\n",
      "  Stored in directory: /root/.cache/pip/wheels/8d/6c/b0/bf78dcb4e6ea7ef71a3ccd744a06c7a5eec520cfa8327114ea\n",
      "Successfully built icalendar\n",
      "Installing collected packages: icalendar\n",
      "Successfully installed icalendar-3.10\n"
     ]
    },
    {
     "name": "stderr",
     "output_type": "stream",
     "text": [
      "You are using pip version 8.1.1, however version 8.1.2 is available.\n",
      "You should consider upgrading via the 'pip install --upgrade pip' command.\n"
     ]
    }
   ],
   "source": []
  },
  {
   "cell_type": "code",
   "execution_count": null,
   "metadata": {
    "collapsed": true
   },
   "outputs": [],
   "source": []
  }
 ],
 "metadata": {
  "kernelspec": {
   "display_name": "Python 3",
   "language": "python",
   "name": "python3"
  },
  "language_info": {
   "codemirror_mode": {
    "name": "ipython",
    "version": 3
   },
   "file_extension": ".py",
   "mimetype": "text/x-python",
   "name": "python",
   "nbconvert_exporter": "python",
   "pygments_lexer": "ipython3",
   "version": "3.4.3"
  }
 },
 "nbformat": 4,
 "nbformat_minor": 0
}
