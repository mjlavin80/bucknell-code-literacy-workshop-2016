{
 "cells": [
  {
   "cell_type": "code",
   "execution_count": 1,
   "metadata": {
    "collapsed": false
   },
   "outputs": [
    {
     "name": "stdout",
     "output_type": "stream",
     "text": [
      "On branch master\n",
      "Your branch is up-to-date with 'origin/master'.\n",
      "\n",
      "Changes not staged for commit:\n",
      "  (use \"git add <file>...\" to update what will be committed)\n",
      "  (use \"git checkout -- <file>...\" to discard changes in working directory)\n",
      "\n",
      "\tmodified:   .ipynb_checkpoints/Matt's Notebook-checkpoint.ipynb\n",
      "\tmodified:   Matt's Notebook.ipynb\n",
      "\tmodified:   zotero_snippet.py\n",
      "\n",
      "Untracked files:\n",
      "  (use \"git add <file>...\" to include in what will be committed)\n",
      "\n",
      "\t.ipynb_checkpoints/Beth Loves Pluto More-checkpoint.ipynb\n",
      "\t.ipynb_checkpoints/Carol's Notebook-checkpoint.ipynb\n",
      "\t.ipynb_checkpoints/Courtney-checkpoint.ipynb\n",
      "\t.ipynb_checkpoints/Josephs_notebook-checkpoint.ipynb\n",
      "\t.ipynb_checkpoints/Matt 2-checkpoint.ipynb\n",
      "\t.ipynb_checkpoints/Michael_notebook-checkpoint.ipynb\n",
      "\t.ipynb_checkpoints/Mike Zarafonetis's Notebook-checkpoint.ipynb\n",
      "\t.ipynb_checkpoints/SC's notebook-checkpoint.ipynb\n",
      "\t.ipynb_checkpoints/SN Notebook-checkpoint.ipynb\n",
      "\t.ipynb_checkpoints/Untitled-checkpoint.ipynb\n",
      "\t.ipynb_checkpoints/Untitled1-checkpoint.ipynb\n",
      "\t.ipynb_checkpoints/Untitled2-checkpoint.ipynb\n",
      "\tBeth Loves Pluto More.ipynb\n",
      "\tCarol's Notebook.ipynb\n",
      "\tCourtney.ipynb\n",
      "\tJosephs_notebook.ipynb\n",
      "\tMatt 2.ipynb\n",
      "\tMichael_notebook.ipynb\n",
      "\tMike Zarafonetis's Notebook.ipynb\n",
      "\tSC's notebook.ipynb\n",
      "\tSN Notebook.ipynb\n",
      "\tUntitled.ipynb\n",
      "\tUntitled1.ipynb\n",
      "\tUntitled2.ipynb\n",
      "\tZotero Key\n",
      "\n",
      "no changes added to commit (use \"git add\" and/or \"git commit -a\")\n",
      "Updating 0869c04..9e7f664\n",
      "Fast-forward\n",
      " literate_code/README.md | 8 ++++++++\n",
      " 1 file changed, 8 insertions(+)\n"
     ]
    },
    {
     "name": "stderr",
     "output_type": "stream",
     "text": [
      "From https://github.com/mjlavin80/bucknell-code-literacy-workshop-2016\n",
      " * branch            master     -> FETCH_HEAD\n",
      "   0869c04..9e7f664  master     -> origin/master\n"
     ]
    }
   ],
   "source": [
    "%%bash \n",
    "git status\n",
    "git pull origin master"
   ]
  },
  {
   "cell_type": "code",
   "execution_count": 3,
   "metadata": {
    "collapsed": false,
    "scrolled": true
   },
   "outputs": [],
   "source": [
    "import pandas as pd\n",
    "feedback_data = pd.read_csv(\"https://docs.google.com/spreadsheets/d/1ZxwU7RczwCbClzbCveQTaXsT-gKq_cN9RP_ceOR_hAA/pub?output=csv\")\n",
    "\n",
    "filename = \"../teaching_ideas/responses.md\"\n",
    "#open in write mode to delete previous contents\n",
    "open(filename, 'w').close()\n",
    "#open file in append mode\n",
    "with open(filename, 'a') as r:\n",
    "    for i in feedback_data.columns:\n",
    "        #loop column\n",
    "        column = feedback_data[i].tolist()\n",
    "        #add header\n",
    "        r.write(\"## \" + str(i) + \"\\n\\n\")\n",
    "        for response in column:\n",
    "            #write to archive file\n",
    "            r.write(str(response) + \"\\n\\n\")\n",
    "r.close()"
   ]
  },
  {
   "cell_type": "code",
   "execution_count": 4,
   "metadata": {
    "collapsed": false
   },
   "outputs": [
    {
     "name": "stdout",
     "output_type": "stream",
     "text": [
      "[master c2c3d80] updating responses\n",
      " Committer: root <root@js-171-190.jetstream-cloud.org>\n",
      "Your name and email address were configured automatically based\n",
      "on your username and hostname. Please check that they are accurate.\n",
      "You can suppress this message by setting them explicitly:\n",
      "\n",
      "    git config --global user.name \"Your Name\"\n",
      "    git config --global user.email you@example.com\n",
      "\n",
      "After doing this, you may fix the identity used for this commit with:\n",
      "\n",
      "    git commit --amend --reset-author\n",
      "\n",
      " 1 file changed, 57 insertions(+)\n"
     ]
    },
    {
     "name": "stderr",
     "output_type": "stream",
     "text": [
      "fatal: could not read Username for 'https://github.com': No such device or address\n"
     ]
    }
   ],
   "source": [
    "%%bash \n",
    "git add \"../teaching_ideas/responses.md\"\n",
    "git commit -m \"updating responses\"\n",
    "git push origin master"
   ]
  },
  {
   "cell_type": "code",
   "execution_count": 4,
   "metadata": {
    "collapsed": false
   },
   "outputs": [
    {
     "data": {
      "text/html": [
       "<html>\n",
       "<body>\n",
       "<input type=\"button\" id=\"button\" value=\"Click Me\" />\n",
       "\n",
       "</body>\n",
       "<script>\n",
       "var onClick = function() {\n",
       "    alert('Hi');\n",
       "};\n",
       "\n",
       "$('#button').click(onClick);\n",
       "\n",
       "\n",
       "</script>\n",
       "</html>"
      ],
      "text/plain": [
       "<IPython.core.display.HTML object>"
      ]
     },
     "metadata": {},
     "output_type": "display_data"
    }
   ],
   "source": [
    "%%html\n",
    "<html>\n",
    "<body>\n",
    "<input type=\"button\" id=\"button\" value=\"Click Me\" />\n",
    "\n",
    "</body>\n",
    "<script>\n",
    "var onClick = function() {\n",
    "    alert('Hi');\n",
    "};\n",
    "\n",
    "$('#button').click(onClick);\n",
    "\n",
    "\n",
    "</script>\n",
    "</html>\n"
   ]
  },
  {
   "cell_type": "code",
   "execution_count": null,
   "metadata": {
    "collapsed": true
   },
   "outputs": [],
   "source": []
  }
 ],
 "metadata": {
  "kernelspec": {
   "display_name": "Python 3",
   "language": "python",
   "name": "python3"
  },
  "language_info": {
   "codemirror_mode": {
    "name": "ipython",
    "version": 3
   },
   "file_extension": ".py",
   "mimetype": "text/x-python",
   "name": "python",
   "nbconvert_exporter": "python",
   "pygments_lexer": "ipython3",
   "version": "3.4.3"
  }
 },
 "nbformat": 4,
 "nbformat_minor": 0
}
