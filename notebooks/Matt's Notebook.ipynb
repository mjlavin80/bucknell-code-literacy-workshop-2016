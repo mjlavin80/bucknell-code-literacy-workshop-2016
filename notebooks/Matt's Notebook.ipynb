{
 "cells": [
  {
   "cell_type": "code",
   "execution_count": 25,
   "metadata": {
    "collapsed": false
   },
   "outputs": [
    {
     "name": "stdout",
     "output_type": "stream",
     "text": [
      "On branch master\n",
      "Your branch is up-to-date with 'origin/master'.\n",
      "Changes not staged for commit:\n",
      "  (use \"git add <file>...\" to update what will be committed)\n",
      "  (use \"git checkout -- <file>...\" to discard changes in working directory)\n",
      "\n",
      "\tmodified:   ../README.md\n",
      "\tmodified:   .ipynb_checkpoints/Matt's Notebook-checkpoint.ipynb\n",
      "\tmodified:   Matt's Notebook.ipynb\n",
      "\n",
      "Untracked files:\n",
      "  (use \"git add <file>...\" to include in what will be committed)\n",
      "\n",
      "\t../.DS_Store\n",
      "\t../teaching_ideas/responses.md\n",
      "\n",
      "no changes added to commit (use \"git add\" and/or \"git commit -a\")\n"
     ]
    }
   ],
   "source": [
    "%%bash \n",
    "git status"
   ]
  },
  {
   "cell_type": "code",
   "execution_count": 24,
   "metadata": {
    "collapsed": false
   },
   "outputs": [],
   "source": [
    "import pandas as pd\n",
    "feedback_data = pd.read_csv(\"https://docs.google.com/spreadsheets/d/1ZxwU7RczwCbClzbCveQTaXsT-gKq_cN9RP_ceOR_hAA/pub?output=csv\")\n",
    "\n",
    "filename = \"../teaching_ideas/responses.md\"\n",
    "#open in write mode to delete previous contents\n",
    "open(filename, 'w').close()\n",
    "#open file in append mode\n",
    "with open(filename, 'a') as r:\n",
    "    for i in feedback_data.columns:\n",
    "        #loop column\n",
    "        column = feedback_data[i].tolist()\n",
    "        #add header\n",
    "        r.write(\"## \" + i + \"\\n\\n\")\n",
    "        for response in column:\n",
    "            #write to archive file\n",
    "            r.write(response + \"\\n\")\n",
    "r.close()"
   ]
  },
  {
   "cell_type": "code",
   "execution_count": 26,
   "metadata": {
    "collapsed": false
   },
   "outputs": [
    {
     "name": "stdout",
     "output_type": "stream",
     "text": [
      "[master 4dea3a4] updating responses\n",
      " Committer: Lavin <lavin@lavinmacpro.english.pitt.edu>\n",
      "Your name and email address were configured automatically based\n",
      "on your username and hostname. Please check that they are accurate.\n",
      "You can suppress this message by setting them explicitly. Run the\n",
      "following command and follow the instructions in your editor to edit\n",
      "your configuration file:\n",
      "\n",
      "    git config --global --edit\n",
      "\n",
      "After doing this, you may fix the identity used for this commit with:\n",
      "\n",
      "    git commit --amend --reset-author\n",
      "\n",
      " 1 file changed, 14 insertions(+)\n",
      " create mode 100644 teaching_ideas/responses.md\n"
     ]
    },
    {
     "name": "stderr",
     "output_type": "stream",
     "text": [
      "To https://github.com/mjlavin80/bucknell-code-literacy-workshop-2016\n",
      "   d2950d0..4dea3a4  master -> master\n"
     ]
    }
   ],
   "source": [
    "%%bash \n",
    "git add \"../teaching_ideas/responses.md\"\n",
    "git commit -m \"updating responses\"\n",
    "git push origin master"
   ]
  },
  {
   "cell_type": "code",
   "execution_count": null,
   "metadata": {
    "collapsed": true
   },
   "outputs": [],
   "source": []
  }
 ],
 "metadata": {
  "kernelspec": {
   "display_name": "Python 3",
   "language": "python",
   "name": "python3"
  },
  "language_info": {
   "codemirror_mode": {
    "name": "ipython",
    "version": 3
   },
   "file_extension": ".py",
   "mimetype": "text/x-python",
   "name": "python",
   "nbconvert_exporter": "python",
   "pygments_lexer": "ipython3",
   "version": "3.5.1"
  }
 },
 "nbformat": 4,
 "nbformat_minor": 0
}
