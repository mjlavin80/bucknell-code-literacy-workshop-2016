{
 "cells": [
  {
   "cell_type": "code",
   "execution_count": null,
   "metadata": {
    "collapsed": true
   },
   "outputs": [],
   "source": [
    "#!/usr/bin/env python"
   ]
  },
  {
   "cell_type": "code",
   "execution_count": 1,
   "metadata": {
    "collapsed": false
   },
   "outputs": [
    {
     "data": {
      "text/plain": [
       "13"
      ]
     },
     "execution_count": 1,
     "metadata": {},
     "output_type": "execute_result"
    }
   ],
   "source": [
    "a=5\n",
    "a+8\n"
   ]
  },
  {
   "cell_type": "code",
   "execution_count": 2,
   "metadata": {
    "collapsed": false
   },
   "outputs": [
    {
     "data": {
      "text/plain": [
       "35"
      ]
     },
     "execution_count": 2,
     "metadata": {},
     "output_type": "execute_result"
    }
   ],
   "source": [
    "a*7"
   ]
  },
  {
   "cell_type": "code",
   "execution_count": 3,
   "metadata": {
    "collapsed": false
   },
   "outputs": [
    {
     "data": {
      "text/html": [
       "<h2>Hello</h2>"
      ],
      "text/plain": [
       "<IPython.core.display.HTML object>"
      ]
     },
     "metadata": {},
     "output_type": "display_data"
    }
   ],
   "source": [
    "%%html\n",
    "<h2>Hello</h2>"
   ]
  },
  {
   "cell_type": "code",
   "execution_count": 6,
   "metadata": {
    "collapsed": false
   },
   "outputs": [
    {
     "ename": "SyntaxError",
     "evalue": "invalid syntax (<ipython-input-6-5446c261de39>, line 1)",
     "output_type": "error",
     "traceback": [
      "\u001b[1;36m  File \u001b[1;32m\"<ipython-input-6-5446c261de39>\"\u001b[1;36m, line \u001b[1;32m1\u001b[0m\n\u001b[1;33m    <h2 style='color:blue'>Hello</h2>\u001b[0m\n\u001b[1;37m    ^\u001b[0m\n\u001b[1;31mSyntaxError\u001b[0m\u001b[1;31m:\u001b[0m invalid syntax\n"
     ]
    }
   ],
   "source": [
    "<h2 style='color:blue'>Hello</h2>"
   ]
  },
  {
   "cell_type": "code",
   "execution_count": 8,
   "metadata": {
    "collapsed": false
   },
   "outputs": [
    {
     "name": "stdout",
     "output_type": "stream",
     "text": [
      "On branch master\n",
      "Your branch is up-to-date with 'origin/master'.\n",
      "\n",
      "Changes not staged for commit:\n",
      "  (use \"git add <file>...\" to update what will be committed)\n",
      "  (use \"git checkout -- <file>...\" to discard changes in working directory)\n",
      "\n",
      "\tmodified:   .ipynb_checkpoints/Matt's Notebook-checkpoint.ipynb\n",
      "\tmodified:   Matt's Notebook.ipynb\n",
      "\n",
      "Untracked files:\n",
      "  (use \"git add <file>...\" to include in what will be committed)\n",
      "\n",
      "\t.ipynb_checkpoints/Beth Loves Pluto More-checkpoint.ipynb\n",
      "\t.ipynb_checkpoints/Carol's Notebook-checkpoint.ipynb\n",
      "\t.ipynb_checkpoints/Courtney-checkpoint.ipynb\n",
      "\t.ipynb_checkpoints/Josephs_notebook-checkpoint.ipynb\n",
      "\t.ipynb_checkpoints/Matt 2-checkpoint.ipynb\n",
      "\t.ipynb_checkpoints/Michael_notebook-checkpoint.ipynb\n",
      "\t.ipynb_checkpoints/Mike Zarafonetis's Notebook-checkpoint.ipynb\n",
      "\t.ipynb_checkpoints/SC's notebook-checkpoint.ipynb\n",
      "\t.ipynb_checkpoints/SN Notebook-checkpoint.ipynb\n",
      "\t.ipynb_checkpoints/Untitled-checkpoint.ipynb\n",
      "\tBeth Loves Pluto More.ipynb\n",
      "\tCarol's Notebook.ipynb\n",
      "\tCourtney.ipynb\n",
      "\tJosephs_notebook.ipynb\n",
      "\tMatt 2.ipynb\n",
      "\tMichael_notebook.ipynb\n",
      "\tMike Zarafonetis's Notebook.ipynb\n",
      "\tSC's notebook.ipynb\n",
      "\tSN Notebook.ipynb\n",
      "\tUntitled.ipynb\n",
      "\n",
      "no changes added to commit (use \"git add\" and/or \"git commit -a\")\n"
     ]
    }
   ],
   "source": [
    "%%bash\n",
    "git status\n"
   ]
  },
  {
   "cell_type": "code",
   "execution_count": 9,
   "metadata": {
    "collapsed": false
   },
   "outputs": [
    {
     "name": "stdout",
     "output_type": "stream",
     "text": [
      "Beth Loves Pluto More.ipynb\n",
      "Carol's Notebook.ipynb\n",
      "Courtney.ipynb\n",
      "Josephs_notebook.ipynb\n",
      "Matt 2.ipynb\n",
      "Matt's Notebook.ipynb\n",
      "Michael_notebook.ipynb\n",
      "Mike Zarafonetis's Notebook.ipynb\n",
      "SC's notebook.ipynb\n",
      "SN Notebook.ipynb\n",
      "Untitled.ipynb\n",
      "zotero_snippet.py\n"
     ]
    }
   ],
   "source": [
    "%%bash\n",
    "ls\n"
   ]
  },
  {
   "cell_type": "code",
   "execution_count": null,
   "metadata": {
    "collapsed": true
   },
   "outputs": [],
   "source": []
  }
 ],
 "metadata": {
  "kernelspec": {
   "display_name": "Python 3",
   "language": "python",
   "name": "python3"
  },
  "language_info": {
   "codemirror_mode": {
    "name": "ipython",
    "version": 3
   },
   "file_extension": ".py",
   "mimetype": "text/x-python",
   "name": "python",
   "nbconvert_exporter": "python",
   "pygments_lexer": "ipython3",
   "version": "3.4.3"
  }
 },
 "nbformat": 4,
 "nbformat_minor": 0
}
